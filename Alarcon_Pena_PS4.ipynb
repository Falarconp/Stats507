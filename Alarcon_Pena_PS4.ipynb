{
 "cells": [
  {
   "cell_type": "code",
   "execution_count": 8,
   "id": "377d2e54",
   "metadata": {},
   "outputs": [
    {
     "ename": "ImportError",
     "evalue": "cannot import name 'code_snippet'",
     "output_type": "error",
     "traceback": [
      "\u001b[0;31m---------------------------------------------------------------------------\u001b[0m",
      "\u001b[0;31mImportError\u001b[0m                               Traceback (most recent call last)",
      "\u001b[0;32m<ipython-input-8-52a2d7d0b9a6>\u001b[0m in \u001b[0;36m<module>\u001b[0;34m()\u001b[0m\n\u001b[1;32m      3\u001b[0m \u001b[0;32mimport\u001b[0m \u001b[0mrequests\u001b[0m\u001b[0;34m\u001b[0m\u001b[0m\n\u001b[1;32m      4\u001b[0m \u001b[0;34m\u001b[0m\u001b[0m\n\u001b[0;32m----> 5\u001b[0;31m \u001b[0;32mfrom\u001b[0m \u001b[0mPS2\u001b[0m\u001b[0;34m.\u001b[0m\u001b[0mpy\u001b[0m \u001b[0;32mimport\u001b[0m \u001b[0mcolumns_demo\u001b[0m\u001b[0;34m,\u001b[0m \u001b[0mcolumns_demo_new\u001b[0m\u001b[0;34m\u001b[0m\u001b[0m\n\u001b[0m",
      "\u001b[0;32m~/Desktop/Git/Stats507/PS2.py\u001b[0m in \u001b[0;36m<module>\u001b[0;34m()\u001b[0m\n\u001b[1;32m    152\u001b[0m t_code_snippet = timeit.repeat(\"code_snippet(tuple_list)\",\n\u001b[1;32m    153\u001b[0m                                \u001b[0msetup\u001b[0m\u001b[0;34m=\u001b[0m\u001b[0;34m\"from __main__ import code_snippet, tuple_list\"\u001b[0m\u001b[0;34m,\u001b[0m\u001b[0;34m\u001b[0m\u001b[0m\n\u001b[0;32m--> 154\u001b[0;31m                               repeat=10, number=iters)\n\u001b[0m\u001b[1;32m    155\u001b[0m t_code_improved = timeit.repeat(\"Improved_snippet(tuple_list)\",\n\u001b[1;32m    156\u001b[0m                                 \u001b[0msetup\u001b[0m\u001b[0;34m=\u001b[0m\u001b[0;34m\"from __main__ import Improved_snippet, tuple_list\"\u001b[0m\u001b[0;34m,\u001b[0m\u001b[0;34m\u001b[0m\u001b[0m\n",
      "\u001b[0;32m/usr/local/anaconda/envs/python3/lib/python3.6/timeit.py\u001b[0m in \u001b[0;36mrepeat\u001b[0;34m(stmt, setup, timer, repeat, number, globals)\u001b[0m\n\u001b[1;32m    236\u001b[0m            repeat=default_repeat, number=default_number, globals=None):\n\u001b[1;32m    237\u001b[0m     \u001b[0;34m\"\"\"Convenience function to create Timer object and call repeat method.\"\"\"\u001b[0m\u001b[0;34m\u001b[0m\u001b[0m\n\u001b[0;32m--> 238\u001b[0;31m     \u001b[0;32mreturn\u001b[0m \u001b[0mTimer\u001b[0m\u001b[0;34m(\u001b[0m\u001b[0mstmt\u001b[0m\u001b[0;34m,\u001b[0m \u001b[0msetup\u001b[0m\u001b[0;34m,\u001b[0m \u001b[0mtimer\u001b[0m\u001b[0;34m,\u001b[0m \u001b[0mglobals\u001b[0m\u001b[0;34m)\u001b[0m\u001b[0;34m.\u001b[0m\u001b[0mrepeat\u001b[0m\u001b[0;34m(\u001b[0m\u001b[0mrepeat\u001b[0m\u001b[0;34m,\u001b[0m \u001b[0mnumber\u001b[0m\u001b[0;34m)\u001b[0m\u001b[0;34m\u001b[0m\u001b[0m\n\u001b[0m\u001b[1;32m    239\u001b[0m \u001b[0;34m\u001b[0m\u001b[0m\n\u001b[1;32m    240\u001b[0m \u001b[0;32mdef\u001b[0m \u001b[0mmain\u001b[0m\u001b[0;34m(\u001b[0m\u001b[0margs\u001b[0m\u001b[0;34m=\u001b[0m\u001b[0;32mNone\u001b[0m\u001b[0;34m,\u001b[0m \u001b[0;34m*\u001b[0m\u001b[0;34m,\u001b[0m \u001b[0m_wrap_timer\u001b[0m\u001b[0;34m=\u001b[0m\u001b[0;32mNone\u001b[0m\u001b[0;34m)\u001b[0m\u001b[0;34m:\u001b[0m\u001b[0;34m\u001b[0m\u001b[0m\n",
      "\u001b[0;32m/usr/local/anaconda/envs/python3/lib/python3.6/timeit.py\u001b[0m in \u001b[0;36mrepeat\u001b[0;34m(self, repeat, number)\u001b[0m\n\u001b[1;32m    204\u001b[0m         \u001b[0mr\u001b[0m \u001b[0;34m=\u001b[0m \u001b[0;34m[\u001b[0m\u001b[0;34m]\u001b[0m\u001b[0;34m\u001b[0m\u001b[0m\n\u001b[1;32m    205\u001b[0m         \u001b[0;32mfor\u001b[0m \u001b[0mi\u001b[0m \u001b[0;32min\u001b[0m \u001b[0mrange\u001b[0m\u001b[0;34m(\u001b[0m\u001b[0mrepeat\u001b[0m\u001b[0;34m)\u001b[0m\u001b[0;34m:\u001b[0m\u001b[0;34m\u001b[0m\u001b[0m\n\u001b[0;32m--> 206\u001b[0;31m             \u001b[0mt\u001b[0m \u001b[0;34m=\u001b[0m \u001b[0mself\u001b[0m\u001b[0;34m.\u001b[0m\u001b[0mtimeit\u001b[0m\u001b[0;34m(\u001b[0m\u001b[0mnumber\u001b[0m\u001b[0;34m)\u001b[0m\u001b[0;34m\u001b[0m\u001b[0m\n\u001b[0m\u001b[1;32m    207\u001b[0m             \u001b[0mr\u001b[0m\u001b[0;34m.\u001b[0m\u001b[0mappend\u001b[0m\u001b[0;34m(\u001b[0m\u001b[0mt\u001b[0m\u001b[0;34m)\u001b[0m\u001b[0;34m\u001b[0m\u001b[0m\n\u001b[1;32m    208\u001b[0m         \u001b[0;32mreturn\u001b[0m \u001b[0mr\u001b[0m\u001b[0;34m\u001b[0m\u001b[0m\n",
      "\u001b[0;32m/usr/local/anaconda/envs/python3/lib/python3.6/timeit.py\u001b[0m in \u001b[0;36mtimeit\u001b[0;34m(self, number)\u001b[0m\n\u001b[1;32m    176\u001b[0m         \u001b[0mgc\u001b[0m\u001b[0;34m.\u001b[0m\u001b[0mdisable\u001b[0m\u001b[0;34m(\u001b[0m\u001b[0;34m)\u001b[0m\u001b[0;34m\u001b[0m\u001b[0m\n\u001b[1;32m    177\u001b[0m         \u001b[0;32mtry\u001b[0m\u001b[0;34m:\u001b[0m\u001b[0;34m\u001b[0m\u001b[0m\n\u001b[0;32m--> 178\u001b[0;31m             \u001b[0mtiming\u001b[0m \u001b[0;34m=\u001b[0m \u001b[0mself\u001b[0m\u001b[0;34m.\u001b[0m\u001b[0minner\u001b[0m\u001b[0;34m(\u001b[0m\u001b[0mit\u001b[0m\u001b[0;34m,\u001b[0m \u001b[0mself\u001b[0m\u001b[0;34m.\u001b[0m\u001b[0mtimer\u001b[0m\u001b[0;34m)\u001b[0m\u001b[0;34m\u001b[0m\u001b[0m\n\u001b[0m\u001b[1;32m    179\u001b[0m         \u001b[0;32mfinally\u001b[0m\u001b[0;34m:\u001b[0m\u001b[0;34m\u001b[0m\u001b[0m\n\u001b[1;32m    180\u001b[0m             \u001b[0;32mif\u001b[0m \u001b[0mgcold\u001b[0m\u001b[0;34m:\u001b[0m\u001b[0;34m\u001b[0m\u001b[0m\n",
      "\u001b[0;32m/usr/local/anaconda/envs/python3/lib/python3.6/timeit.py\u001b[0m in \u001b[0;36minner\u001b[0;34m(_it, _timer)\u001b[0m\n",
      "\u001b[0;31mImportError\u001b[0m: cannot import name 'code_snippet'"
     ]
    }
   ],
   "source": [
    "import pandas as pd\n",
    "import numpy as np\n",
    "import requests\n",
    "import matplotlib.pyplot as plt\n"
   ]
  },
  {
   "cell_type": "markdown",
   "id": "bfd1bab0",
   "metadata": {},
   "source": [
    "# Question 0 - Topics in Pandas\n",
    "\n",
    "## Sparse Data Structures\n",
    "\n",
    "\n",
    "`pandas` offers a way to speed up not only calculations in the typical `sparse` meaning, i.e. , `DataFrames` with 0's, but also for particular values or `NaN's`.\n",
    "\n",
    "\n",
    "Let's first start showing the effect it has on discarding `NaN's` or a particular values and compare it with other methods. \n"
   ]
  },
  {
   "cell_type": "code",
   "execution_count": null,
   "id": "9dc4287c",
   "metadata": {},
   "outputs": [],
   "source": [
    "## Creating toy data with several NaN's\n",
    "\n",
    "\n",
    "## Creating toy data with several NaN's"
   ]
  },
  {
   "cell_type": "markdown",
   "id": "bfcf551f",
   "metadata": {},
   "source": [
    "## Speed-up in storing Sparse DataStructures\n",
    "\n",
    "Not only that but `Sparse DataStructures` are faster at storing data of interest, which is of particular interest when we want to discard some values or are only interested on a subset of the data."
   ]
  },
  {
   "cell_type": "code",
   "execution_count": null,
   "id": "8e655eb2",
   "metadata": {},
   "outputs": [],
   "source": [
    "## Let's compare the storing times for different methods and the same datastructure  being sparse or not."
   ]
  },
  {
   "cell_type": "markdown",
   "id": "ae922bce",
   "metadata": {},
   "source": [
    "## Speed-up of calculations in Sparse DataStructures and comparison with scipy.\n",
    "\n",
    "Finally we compare the time it takes to operate on `Sparse DataStructure` comparing with time period it takes for normal operations and similar methos in the `scipy` library."
   ]
  },
  {
   "cell_type": "code",
   "execution_count": 4,
   "id": "62741240",
   "metadata": {},
   "outputs": [],
   "source": [
    "## scipy also offers methods for sparse arrays, although in the full with 0's meaning,\n",
    "## while pandas is more complete."
   ]
  },
  {
   "cell_type": "markdown",
   "id": "e8726859",
   "metadata": {},
   "source": [
    "As we can see `Sparse` methods are specially useful to manage data with repeated values or just values we are not interested in. It can also be used to operate on them at a similar speed than `scipy` methods, both of them much faster that standar multiplications."
   ]
  },
  {
   "cell_type": "markdown",
   "id": "beb95472",
   "metadata": {},
   "source": [
    "# Question 1 - NHANES Table 1\n",
    "\n",
    "### part a) "
   ]
  },
  {
   "cell_type": "code",
   "execution_count": 49,
   "id": "3c4f9ac4",
   "metadata": {},
   "outputs": [],
   "source": [
    "columns_demo = [\"SEQN\",\"RIDAGEYR\",\"RIDRETH3\",\"DMDEDUC2\",\n",
    "                \"DMDMARTL\",\"RIDSTATR\",\"SDMVPSU\",\"WTMEC2YR\",\n",
    "                \"WTINT2YR\",\"RIAGENDR\"]\n",
    "\n",
    "columns_demo_new = [\"id\", \"age\", \"race\", \"education\",\n",
    "                    \"marital_status\", \"exam_status\", \n",
    "                   \"pseudo-psu_masked_var\", \n",
    "                   \"2yr_exam_weight\", \"2yr_interview_weight\", \"gender\"]\n",
    "\n",
    "dtypes = [int, int, int, int, int, int, int, float, float, int]\n",
    "\n",
    "rename_cols = dict(zip(columns_demo, columns_demo_new))\n",
    "data_types = dict(zip(columns_demo_new, dtypes))\n",
    "\n",
    "yr_11_12 = pd.read_sas('./DEMO_G.XPT')[columns_demo]\n",
    "yr_11_12[\"period\"] =  \"2011-2012\"\n",
    "yr_13_14 = pd.read_sas('./DEMO_H.XPT')[columns_demo]\n",
    "yr_13_14[\"period\"] =  \"2013-2014\"\n",
    "yr_15_16 = pd.read_sas('./DEMO_I.XPT')[columns_demo]\n",
    "yr_15_16[\"period\"] =  \"2015-2016\"\n",
    "yr_17_18 = pd.read_sas('./DEMO_J.XPT')[columns_demo]\n",
    "yr_17_18[\"period\"] =  \"2017-2018\"\n",
    "\n",
    "# Stack all the different dataframes into one.\n",
    "demo_data = pd.concat([yr_11_12, yr_13_14,\n",
    "                       yr_15_16, yr_17_18],\n",
    "                      ignore_index=True)\n",
    "\n",
    "#Drop NaNs.\n",
    "#demo_data.dropna(inplace=True)\n",
    "#Change Column Names.\n",
    "demo_data.rename(columns=rename_cols, inplace=True)\n",
    "#Change data types.\n",
    "#demo_data = demo_data.astype(data_types)"
   ]
  },
  {
   "cell_type": "markdown",
   "id": "c330072f",
   "metadata": {},
   "source": [
    "### part b)"
   ]
  },
  {
   "cell_type": "code",
   "execution_count": 52,
   "id": "6e4450f4",
   "metadata": {},
   "outputs": [],
   "source": [
    "columns_oral = [\"SEQN\",\"OHDDESTS\"]\n",
    "\n",
    "\n",
    "#Creating mask for the required columns\n",
    "or_11_12 = pd.read_sas('./OHXDEN_G.XPT')\n",
    "mask1 = or_11_12.columns.str.contains(\"TC\")\n",
    "mask2 = ((or_11_12.columns==\"SEQN\") | (or_11_12.columns==\"OHDDESTS\"))\n",
    "mask3 = or_11_12.columns.str.contains(\"CTC\")\n",
    "mask = mask1 | mask2\n",
    "columns_oral = or_11_12.columns[mask]\n",
    "\n",
    "or_11_12[columns_oral]\n",
    "or_11_12[\"period\"] =  \"2011-2012\"\n",
    "or_13_14 = pd.read_sas('./OHXDEN_H.XPT')[columns_oral]\n",
    "or_13_14[\"period\"] =  \"2013-2014\"\n",
    "or_15_16 = pd.read_sas('./OHXDEN_I.XPT')[columns_oral]\n",
    "or_15_16[\"period\"] =  \"2015-2016\"\n",
    "or_17_18 = pd.read_sas('./OHXDEN_J.XPT')[columns_oral]\n",
    "or_17_18[\"period\"] =  \"2017-2018\"\n",
    "\n",
    "\n",
    "dtypes_oral = [int]*2+[int]*sum(mask3 & mask1)+[str]*sum(mask3)\n",
    "columns_oral_new = [\"id\", \"ohx_status\"]\n",
    "columns_oral_new += [str(i)+\" tooth count\" for i in range(sum(mask3 & mask1))]\n",
    "columns_oral_new += [\"coronal caries \"+str(i)+\" tooth\" for i in range(sum(mask3))]\n",
    "rename_cols_oral = dict(zip(columns_oral, columns_oral_new))\n",
    "data_types_oral = dict(zip(columns_oral_new, dtypes_oral))\n",
    "\n",
    "#Stacking the data\n",
    "oral_data = pd.concat([or_11_12[columns_oral], or_13_14, \n",
    "                       or_15_16, or_17_18], ignore_index=True)\n",
    "#Drop NaN's.\n",
    "oral_data.dropna(inplace=True)\n",
    "#Change column names.\n",
    "oral_data.rename(columns=rename_cols_oral, inplace=True)\n",
    "#Change datatypes.\n",
    "oral_data = oral_data.astype(data_types_oral)\n"
   ]
  },
  {
   "cell_type": "code",
   "execution_count": 217,
   "id": "203f600d",
   "metadata": {},
   "outputs": [],
   "source": [
    "df = pd.merge(demo_data[[\"id\",\"gender\",\"age\",\"education\", \"exam_status\"]],\n",
    "         oral_data[[\"id\",\"ohx_status\"]], on=\"id\")\n",
    "\n",
    "df[\"under_20\"] = df.age<20\n",
    "df[\"under_20\"] = df[\"under_20\"].astype(\"category\")\n",
    "\n",
    "df[\"college\"] = pd.Categorical(np.where(df.education > 3,\n",
    "                                        \"some college/college graduate\",\"No college/<20\"))\n",
    "\n",
    "df[\"ohx\"] = pd.Categorical(np.where((df[\"exam_status\"]==2) & (df[\"ohx_status\"]==1),\n",
    "                                     \"complete\",\"partial/incomplete\"))\n",
    "\n",
    "\n",
    "#index = pd.MultiIndex.from_tuples(tuples, names=['first', 'second'])\n",
    "\n",
    "\n",
    "#df.groupby(\"under_20\" ,as_index=True).agg(set)\n",
    "\n",
    "#df.groupby(\"under_20\" ,as_index=True).agg(set).reset_index()"
   ]
  },
  {
   "cell_type": "code",
   "execution_count": 218,
   "id": "5f135ad6",
   "metadata": {},
   "outputs": [
    {
     "ename": "NameError",
     "evalue": "name 'to_flat_index' is not defined",
     "output_type": "error",
     "traceback": [
      "\u001b[0;31m---------------------------------------------------------------------------\u001b[0m",
      "\u001b[0;31mNameError\u001b[0m                                 Traceback (most recent call last)",
      "\u001b[0;32m<ipython-input-218-a02e0c63c902>\u001b[0m in \u001b[0;36m<module>\u001b[0;34m()\u001b[0m\n\u001b[1;32m      1\u001b[0m \u001b[0;31m#df.columns.to_flat_index()\u001b[0m\u001b[0;34m\u001b[0m\u001b[0;34m\u001b[0m\u001b[0m\n\u001b[0;32m----> 2\u001b[0;31m \u001b[0mdf\u001b[0m\u001b[0;34m.\u001b[0m\u001b[0mgroupby\u001b[0m\u001b[0;34m(\u001b[0m\u001b[0;34m\"under_20\"\u001b[0m \u001b[0;34m,\u001b[0m\u001b[0mas_index\u001b[0m\u001b[0;34m=\u001b[0m\u001b[0;32mTrue\u001b[0m\u001b[0;34m)\u001b[0m\u001b[0;34m.\u001b[0m\u001b[0magg\u001b[0m\u001b[0;34m(\u001b[0m\u001b[0mto_flat_index\u001b[0m\u001b[0;34m)\u001b[0m\u001b[0;34m\u001b[0m\u001b[0m\n\u001b[0m",
      "\u001b[0;31mNameError\u001b[0m: name 'to_flat_index' is not defined"
     ]
    }
   ],
   "source": [
    "#df.columns.to_flat_index()\n",
    "df.groupby(\"under_20\" ,as_index=True).agg(to_flat_index)\n"
   ]
  },
  {
   "cell_type": "code",
   "execution_count": 207,
   "id": "b6dc7970",
   "metadata": {},
   "outputs": [
    {
     "ename": "KeyError",
     "evalue": "'Column not found: 1'",
     "output_type": "error",
     "traceback": [
      "\u001b[0;31m---------------------------------------------------------------------------\u001b[0m",
      "\u001b[0;31mKeyError\u001b[0m                                  Traceback (most recent call last)",
      "\u001b[0;32m<ipython-input-207-4325622a42e4>\u001b[0m in \u001b[0;36m<module>\u001b[0;34m()\u001b[0m\n\u001b[0;32m----> 1\u001b[0;31m \u001b[0mpd\u001b[0m\u001b[0;34m.\u001b[0m\u001b[0mMultiIndex\u001b[0m\u001b[0;34m.\u001b[0m\u001b[0mfrom_arrays\u001b[0m\u001b[0;34m(\u001b[0m\u001b[0mdf\u001b[0m\u001b[0;34m)\u001b[0m\u001b[0;34m\u001b[0m\u001b[0m\n\u001b[0m",
      "\u001b[0;32m~/.local/lib/python3.6/site-packages/pandas/core/indexes/multi.py\u001b[0m in \u001b[0;36mfrom_arrays\u001b[0;34m(cls, arrays, sortorder, names)\u001b[0m\n\u001b[1;32m    422\u001b[0m         \u001b[0;31m# raise ValueError, if not\u001b[0m\u001b[0;34m\u001b[0m\u001b[0;34m\u001b[0m\u001b[0m\n\u001b[1;32m    423\u001b[0m         \u001b[0;32mfor\u001b[0m \u001b[0mi\u001b[0m \u001b[0;32min\u001b[0m \u001b[0mrange\u001b[0m\u001b[0;34m(\u001b[0m\u001b[0;36m1\u001b[0m\u001b[0;34m,\u001b[0m \u001b[0mlen\u001b[0m\u001b[0;34m(\u001b[0m\u001b[0marrays\u001b[0m\u001b[0;34m)\u001b[0m\u001b[0;34m)\u001b[0m\u001b[0;34m:\u001b[0m\u001b[0;34m\u001b[0m\u001b[0m\n\u001b[0;32m--> 424\u001b[0;31m             \u001b[0;32mif\u001b[0m \u001b[0mlen\u001b[0m\u001b[0;34m(\u001b[0m\u001b[0marrays\u001b[0m\u001b[0;34m[\u001b[0m\u001b[0mi\u001b[0m\u001b[0;34m]\u001b[0m\u001b[0;34m)\u001b[0m \u001b[0;34m!=\u001b[0m \u001b[0mlen\u001b[0m\u001b[0;34m(\u001b[0m\u001b[0marrays\u001b[0m\u001b[0;34m[\u001b[0m\u001b[0mi\u001b[0m \u001b[0;34m-\u001b[0m \u001b[0;36m1\u001b[0m\u001b[0;34m]\u001b[0m\u001b[0;34m)\u001b[0m\u001b[0;34m:\u001b[0m\u001b[0;34m\u001b[0m\u001b[0m\n\u001b[0m\u001b[1;32m    425\u001b[0m                 \u001b[0;32mraise\u001b[0m \u001b[0mValueError\u001b[0m\u001b[0;34m(\u001b[0m\u001b[0;34m\"all arrays must be same length\"\u001b[0m\u001b[0;34m)\u001b[0m\u001b[0;34m\u001b[0m\u001b[0m\n\u001b[1;32m    426\u001b[0m \u001b[0;34m\u001b[0m\u001b[0m\n",
      "\u001b[0;32m~/.local/lib/python3.6/site-packages/pandas/core/groupby/generic.py\u001b[0m in \u001b[0;36m__getitem__\u001b[0;34m(self, key)\u001b[0m\n\u001b[1;32m   1601\u001b[0m                 \u001b[0mstacklevel\u001b[0m\u001b[0;34m=\u001b[0m\u001b[0;36m2\u001b[0m\u001b[0;34m,\u001b[0m\u001b[0;34m\u001b[0m\u001b[0m\n\u001b[1;32m   1602\u001b[0m             )\n\u001b[0;32m-> 1603\u001b[0;31m         \u001b[0;32mreturn\u001b[0m \u001b[0msuper\u001b[0m\u001b[0;34m(\u001b[0m\u001b[0;34m)\u001b[0m\u001b[0;34m.\u001b[0m\u001b[0m__getitem__\u001b[0m\u001b[0;34m(\u001b[0m\u001b[0mkey\u001b[0m\u001b[0;34m)\u001b[0m\u001b[0;34m\u001b[0m\u001b[0m\n\u001b[0m\u001b[1;32m   1604\u001b[0m \u001b[0;34m\u001b[0m\u001b[0m\n\u001b[1;32m   1605\u001b[0m     \u001b[0;32mdef\u001b[0m \u001b[0m_gotitem\u001b[0m\u001b[0;34m(\u001b[0m\u001b[0mself\u001b[0m\u001b[0;34m,\u001b[0m \u001b[0mkey\u001b[0m\u001b[0;34m,\u001b[0m \u001b[0mndim\u001b[0m\u001b[0;34m:\u001b[0m \u001b[0mint\u001b[0m\u001b[0;34m,\u001b[0m \u001b[0msubset\u001b[0m\u001b[0;34m=\u001b[0m\u001b[0;32mNone\u001b[0m\u001b[0;34m)\u001b[0m\u001b[0;34m:\u001b[0m\u001b[0;34m\u001b[0m\u001b[0m\n",
      "\u001b[0;32m~/.local/lib/python3.6/site-packages/pandas/core/base.py\u001b[0m in \u001b[0;36m__getitem__\u001b[0;34m(self, key)\u001b[0m\n\u001b[1;32m    228\u001b[0m         \u001b[0;32melse\u001b[0m\u001b[0;34m:\u001b[0m\u001b[0;34m\u001b[0m\u001b[0m\n\u001b[1;32m    229\u001b[0m             \u001b[0;32mif\u001b[0m \u001b[0mkey\u001b[0m \u001b[0;32mnot\u001b[0m \u001b[0;32min\u001b[0m \u001b[0mself\u001b[0m\u001b[0;34m.\u001b[0m\u001b[0mobj\u001b[0m\u001b[0;34m:\u001b[0m\u001b[0;34m\u001b[0m\u001b[0m\n\u001b[0;32m--> 230\u001b[0;31m                 \u001b[0;32mraise\u001b[0m \u001b[0mKeyError\u001b[0m\u001b[0;34m(\u001b[0m\u001b[0;34mf\"Column not found: {key}\"\u001b[0m\u001b[0;34m)\u001b[0m\u001b[0;34m\u001b[0m\u001b[0m\n\u001b[0m\u001b[1;32m    231\u001b[0m             \u001b[0;32mreturn\u001b[0m \u001b[0mself\u001b[0m\u001b[0;34m.\u001b[0m\u001b[0m_gotitem\u001b[0m\u001b[0;34m(\u001b[0m\u001b[0mkey\u001b[0m\u001b[0;34m,\u001b[0m \u001b[0mndim\u001b[0m\u001b[0;34m=\u001b[0m\u001b[0;36m1\u001b[0m\u001b[0;34m)\u001b[0m\u001b[0;34m\u001b[0m\u001b[0m\n\u001b[1;32m    232\u001b[0m \u001b[0;34m\u001b[0m\u001b[0m\n",
      "\u001b[0;31mKeyError\u001b[0m: 'Column not found: 1'"
     ]
    }
   ],
   "source": [
    "pd.MultiIndex.from_arrays(df)"
   ]
  },
  {
   "cell_type": "code",
   "execution_count": 188,
   "id": "7f1e4b21",
   "metadata": {},
   "outputs": [
    {
     "data": {
      "text/plain": [
       "{'No college/<20': Int64Index([    0,     1,     3,     7,     8,    10,    12,    13,    15,\n",
       "                16,\n",
       "             ...\n",
       "             25911, 25912, 25913, 25915, 25916, 25920, 25921, 25922, 25923,\n",
       "             25925],\n",
       "            dtype='int64', length=17254),\n",
       " 'some college/college graduate': Int64Index([    2,     4,     5,     6,     9,    11,    14,    20,    21,\n",
       "                24,\n",
       "             ...\n",
       "             25897, 25900, 25906, 25908, 25914, 25917, 25918, 25919, 25924,\n",
       "             25926],\n",
       "            dtype='int64', length=8673)}"
      ]
     },
     "execution_count": 188,
     "metadata": {},
     "output_type": "execute_result"
    }
   ],
   "source": [
    "df.groups"
   ]
  },
  {
   "cell_type": "markdown",
   "id": "871a5811",
   "metadata": {},
   "source": [
    "### part c)"
   ]
  },
  {
   "cell_type": "code",
   "execution_count": 126,
   "id": "87232dd8",
   "metadata": {},
   "outputs": [],
   "source": [
    "df.drop(df[df['exam_status']!=2].index, inplace=True) "
   ]
  },
  {
   "cell_type": "markdown",
   "id": "6c843e8f",
   "metadata": {},
   "source": [
    "### part d)"
   ]
  },
  {
   "cell_type": "markdown",
   "id": "2c59118b",
   "metadata": {},
   "source": [
    "# Question 2 - Monte Carlo Comparison \n",
    "\n",
    "### a) Level Calibration"
   ]
  },
  {
   "cell_type": "code",
   "execution_count": 300,
   "id": "bc112095",
   "metadata": {},
   "outputs": [],
   "source": [
    "from numpy.random import default_rng\n",
    "from copy import copy\n",
    "\n",
    "rng = default_rng(seed=12)\n",
    "p_s = rng.random(30)\n",
    "p_s = np.sort(p_s[p_s<0.5])\n",
    "\n",
    "number_ps = len(p_s)\n",
    "\n",
    "N_samples = 50000\n",
    "n_s = default_rng().random(N_samples)\n",
    "\n",
    "grid_values = np.zeros((number_ps,N_samples))\n",
    "\n",
    "for i in range(number_ps):\n",
    "    aux = copy(n_s)\n",
    "    aux[n_s<p_s[i]] = 1\n",
    "    aux[n_s>p_s[i]] = 0\n",
    "    grid_values[i,:] = aux\n",
    "    \n",
    "p_est = np.mean(grid_values, axis=-1)"
   ]
  },
  {
   "cell_type": "code",
   "execution_count": 321,
   "id": "462426af",
   "metadata": {},
   "outputs": [],
   "source": [
    "def compute_Bin(array,CI=0.95, method=\"NA\",\n",
    "                formt=\"{0:.1f}% [{1:.0f}% CI: ({2:.1f} , {3:.1f})%]\"):\n",
    "    \"\"\"\n",
    "    Calculates confidence interval for a population from a binomial experiment.\n",
    "    Inputs:\n",
    "        array: 1D numpy.array or 1D numpy.array like object.\n",
    "        method: {\"NA\",\"CP\",\"J\",\"AC\"}. Default is NA.\n",
    "        CI: Confidence interval, default is 0.95\n",
    "        formt = Format of output.\n",
    "    Output:\n",
    "        String with point estimate and confidence interval or \n",
    "        Dictionary with keys \"est\",\"lwr\",\"upr\",\"level\" if formt is None.\n",
    "    \"\"\"\n",
    "    from scipy.stats import norm, binom, beta\n",
    "    import warnings\n",
    "    try:\n",
    "        array = np.array(array,dtype=float)\n",
    "    except:\n",
    "        print(\"The function input is not a 1D array or 1D array-type\")\n",
    "        return\n",
    "    output = {}\n",
    "    p = sum(array)/array.size\n",
    "    n = array.size\n",
    "    x = np.sum(array)\n",
    "    alpha = (1-CI)\n",
    "    z = (1+CI)/2.\n",
    "    if method==\"NA\":\n",
    "        std = np.sqrt(p*(1-p)/n)\n",
    "        lw = p + norm.ppf(q=alpha)*std\n",
    "        up = p + norm.ppf(q=1-alpha)*std\n",
    "        output[\"est\"] = n*p\n",
    "        output[\"lwr\"] = n*lw\n",
    "        output[\"upr\"] = n*up\n",
    "        output[\"level\"] = CI\n",
    "        if (p*n>12) or ((1-p)*n>12):\n",
    "           warnings.warn(\"The approximation may not be adequate.\") \n",
    "    elif method==\"CP\":   #Clopper-Pearson Method\n",
    "        lw = beta.ppf(alpha/2.,x,n-x+1)\n",
    "        up = beta.ppf(1-alpha/2.,x+1,n-x)\n",
    "        output[\"est\"] = n*p\n",
    "        output[\"lwr\"] = n*lw\n",
    "        output[\"upr\"] = n*up\n",
    "        output[\"level\"] = CI\n",
    "    elif method==\"J\":   #Jeffrey's Method\n",
    "        lw = beta.ppf(alpha/2,x+0.5,n-x+0.5)\n",
    "        up = beta.ppf(1-alpha/2.,x+1,n-x+0.5)\n",
    "        output[\"est\"] = n*p\n",
    "        output[\"lwr\"] = n*lw\n",
    "        output[\"upr\"] = n*up\n",
    "        output[\"level\"] = CI\n",
    "    elif method==\"AC\":   #Agresti-Coull\n",
    "        n_AC = n+z**2\n",
    "        p_AC = (x+z**2/2.)/n_AC\n",
    "        std = np.sqrt(p_AC*(1-p_AC)/n)\n",
    "        lw = p_AC + norm.ppf(q=alpha)*std\n",
    "        up = p_AC + norm.ppf(q=1-alpha)*std\n",
    "        output[\"est\"] = n*p_AC\n",
    "        output[\"lwr\"] = n*lw\n",
    "        output[\"upr\"] = n*up\n",
    "        output[\"level\"] = CI \n",
    "    else:\n",
    "        print(\"Method is not valid. Use NA, CP, J or AC.\")\n",
    "        return\n",
    "    string = formt.format(p, 100*CI, lw, up)\n",
    "    if formt==None:\n",
    "        return output\n",
    "    else:\n",
    "        return string\n",
    "\n"
   ]
  },
  {
   "cell_type": "code",
   "execution_count": 324,
   "id": "265c4560",
   "metadata": {},
   "outputs": [],
   "source": [
    "CI_s = [0.8,0.9,0.95]\n",
    "output_estimates = []\n",
    "\n",
    "for ci in CI_s:\n",
    "    results = [compute_Bin(grid_values[i,:],CI=ci,method=\"J\",formt=\"{0:.3f} [{1:.0f}% CI: ({2:.3f} , {3:.3f})]\") for i in range(number_ps)]\n",
    "    output_estimates.append(results)"
   ]
  },
  {
   "cell_type": "markdown",
   "id": "92b3d5a8",
   "metadata": {},
   "source": [
    "### b) Relative Efficiency"
   ]
  },
  {
   "cell_type": "code",
   "execution_count": null,
   "id": "19a95116",
   "metadata": {},
   "outputs": [],
   "source": []
  },
  {
   "cell_type": "code",
   "execution_count": null,
   "id": "8ca29ca9",
   "metadata": {},
   "outputs": [],
   "source": []
  }
 ],
 "metadata": {
  "jupytext": {
   "formats": "ipynb,py:light"
  },
  "kernelspec": {
   "display_name": "Python 3",
   "language": "python",
   "name": "python3"
  },
  "language_info": {
   "codemirror_mode": {
    "name": "ipython",
    "version": 3
   },
   "file_extension": ".py",
   "mimetype": "text/x-python",
   "name": "python",
   "nbconvert_exporter": "python",
   "pygments_lexer": "ipython3",
   "version": "3.6.5"
  }
 },
 "nbformat": 4,
 "nbformat_minor": 5
}
