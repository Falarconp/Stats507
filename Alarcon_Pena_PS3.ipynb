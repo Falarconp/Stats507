{
 "cells": [
  {
   "cell_type": "code",
   "execution_count": 1,
   "id": "b5678e33",
   "metadata": {
    "lines_to_next_cell": 2
   },
   "outputs": [],
   "source": [
    "import pandas as pd\n",
    "import numpy as np\n",
    "import matplotlib.pyplot as plt\n",
    "from scipy.stats import norm\n",
    "import os\n",
    "import io"
   ]
  },
  {
   "cell_type": "markdown",
   "id": "f3e8268c",
   "metadata": {},
   "source": [
    "# Question 0 - RECS and Replicate Weights\n",
    "\n",
    "2009 CSV File Data : <https://www.eia.gov/consumption/residential/data/2009/csv/recs2009_public.csv>\n",
    "\n",
    "2009 Replicate Weights: <https://www.eia.gov/consumption/residential/data/2009/csv/recs2009_public_repweights.csv>\n",
    "\n",
    "2015 CSV File Data : <https://www.eia.gov/consumption/residential/data/2015/csv/recs2015_public_v4.csv>\n",
    "\n",
    "The data correspons to the Residential Energy Consumption Survey (RECS) conducted by the U.S. Department of Energy"
   ]
  },
  {
   "cell_type": "code",
   "execution_count": 2,
   "id": "9165c287",
   "metadata": {
    "lines_to_end_of_cell_marker": 2
   },
   "outputs": [],
   "source": [
    "#Columns to be used\n",
    "\n",
    "cols_without_brrwt = [\"DOEID\",\"REGIONC\",\"NWEIGHT\",\"HDD65\",\"CDD65\"]\n",
    "cols_names = [\"id\", \"census region\", \"sample weight\",\n",
    "              \"heating degree days\", \"cooling degree days\"]\n",
    "regions_names = [\"NorthEast\", \"MidWest\", \"South\", \"West\"]"
   ]
  },
  {
   "cell_type": "markdown",
   "id": "becf31e2",
   "metadata": {},
   "source": [
    "Using the [2015 microdata file to compute estimates and standard error (RSEs)][1] as a reference we apply the Fay's method of the balanced repeated replication(BRR) technique. In this method, several replicate weights subsample are used to calculate the point estimate of the statictic to calculate. Then, the differences between the point estimate from the full sample and the ones from the replicated subsamples are used to calculate the standar error of the statistic.\n",
    "\n",
    "The equation to calculate the variance of the statistic of interest, $\\theta$, is the following:\n",
    "$$\n",
    "\\mathrm{Var}(\\hat{\\theta}) = \\frac{1}{R(1-\\epsilon)^2}\\sum_{r=1}^{R}(\\hat{\\theta_r} - \\hat{\\theta})^2,\n",
    "$$\n",
    "\n",
    "where $\\hat{\\theta}$ is the point estimate of the full sample, $R$ is the number of replicate subsamples, $\\hat{\\theta_r}$ the point estimate of the r-th replicate subsample and $\\epsilon$ the Fay coefficient. In this case $\\epsilon = 0.5$\n",
    "\n",
    "[1]:https://www.eia.gov/consumption/residential/data/2015/pdf/microdata_v3.pdf"
   ]
  },
  {
   "cell_type": "markdown",
   "id": "6961bc6b",
   "metadata": {},
   "source": [
    "\n",
    "# Question 1 -  Data preparation"
   ]
  },
  {
   "cell_type": "code",
   "execution_count": 3,
   "id": "b18ccd43",
   "metadata": {
    "lines_to_next_cell": 2
   },
   "outputs": [
    {
     "name": "stdout",
     "output_type": "stream",
     "text": [
      "File with 2009's data was found in local directory.\n",
      "File with 2009's replicate weights data was found in local directory.\n",
      "File with 2015's data was found in local directory.\n"
     ]
    }
   ],
   "source": [
    "link_2015 = 'https://www.eia.gov/consumption/residential/data/2015/csv/recs2015_public_v4.csv'\n",
    "link_2009 = 'https://www.eia.gov/consumption/residential/data/2009/csv/recs2009_public.csv'\n",
    "link_2009_BRRWT = \"https://www.eia.gov/consumption/residential/data/2009/csv/recs2009_public_repweights.csv\"\n",
    "\n",
    "file_2015 = \"./recs2015_public_v4.csv\"\n",
    "file_2009 = \"./recs2009_public.csv\"\n",
    "file_2009_BRRWT = \"./recs2009_public_repweights.csv\"\n",
    "\n",
    "\n",
    "#Checking if file exist in local foulder or it needs to download it.\n",
    "if os.path.exists(file_2009):\n",
    "    df_2009=pd.read_csv(file_2009, usecols=cols_without_brrwt)\n",
    "    print(\"File with 2009's data was found in local directory.\")\n",
    "else:\n",
    "    df_2009=pd.read_csv(link_2009, names=cols_names, usecols=cols_without_brrwt)\n",
    "    print(\"File with 2009's data was not present in local directory, so it was downloaded from URL.\")\n",
    "\n",
    "if os.path.exists(file_2009_BRRWT):\n",
    "    df_2009_brrwt=pd.read_csv(file_2009_BRRWT).filter(regex=\"brr\")\n",
    "    print(\"File with 2009's replicate weights data was found in local directory.\")\n",
    "else:\n",
    "    df_2009_brrwt=pd.read_csv(link_2009_BRRWT).filter(regex=\"brr\")\n",
    "    print(\"File with 2009's replicate weights data was not present in local directory, so it was downloaded from URL.\")    \n",
    "    \n",
    "    \n",
    "if os.path.exists(file_2015):\n",
    "    df_2015=pd.read_csv(file_2015, usecols=cols_without_brrwt)\n",
    "    df_2015_brrwt=pd.read_csv(file_2015).filter(regex=\"BRRWT\")\n",
    "    print(\"File with 2015's data was found in local directory.\")\n",
    "else:\n",
    "    df_2015=pd.read_csv(link_2015, usecols=cols_without_brrwt)\n",
    "    df_2015_brrwt=pd.read_csv(link_2015).filter(regex=\"BRRWT\")\n",
    "    print(\"File with 2015's data was not present in local directory, so it was downloaded from URL.\")\n",
    "\n",
    "    \n",
    "#Saving dataframes to local directory    \n",
    "pd.concat([df_2015,df_2015_brrwt],axis=1).to_csv(file_2015)\n",
    "df_2009.to_csv(file_2009)\n",
    "df_2009_brrwt.to_csv(file_2009_BRRWT)\n",
    "\n",
    "\n",
    "dtypes = [int, pd.CategoricalDtype([1,2,3,4]), float, int, int]\n",
    "rename_cols = dict(zip(cols_without_brrwt, cols_names))\n",
    "dtype_cols = dict(zip(cols_without_brrwt, dtypes))\n",
    "df_2009 = df_2009.astype(dtype_cols, copy=False)\n",
    "df_2015 = df_2015.astype(dtype_cols, copy=False)\n",
    "df_2009.rename(columns=rename_cols, inplace=True)\n",
    "df_2015.rename(columns=rename_cols, inplace=True)\n",
    "#df_2009_brrwt.insert(0, 'census region', df_2009['census region'])\n",
    "#df_2015_brrwt.insert(0, 'census region', df_2015['census region'])\n",
    "\n",
    "df_2009_brrwt.insert(0, 'census region', df_2009['census region'])\n",
    "df_2015_brrwt.insert(0, 'census region', df_2015['census region'])\n",
    "    "
   ]
  },
  {
   "cell_type": "markdown",
   "id": "e764fae7",
   "metadata": {},
   "source": [
    "### Q2 - part a)"
   ]
  },
  {
   "cell_type": "code",
   "execution_count": 4,
   "id": "e32c0aab",
   "metadata": {},
   "outputs": [],
   "source": [
    "#Calculate heating degree days and cooling degree days by Census Region.\n",
    "heat_09 = df_2009.groupby(['census region']).apply(lambda x: np.average(x['heating degree days'],\n",
    "                                                              weights=x['sample weight']))\n",
    "cool_09 = df_2009.groupby(['census region']).apply(lambda x: np.average(x['cooling degree days'],\n",
    "                                                              weights=x['sample weight']))\n",
    "heat_15 = df_2015.groupby(['census region']).apply(lambda x: np.average(x['heating degree days'],\n",
    "                                                              weights=x['sample weight']))\n",
    "cool_15 = df_2015.groupby(['census region']).apply(lambda x: np.average(x['cooling degree days'],\n",
    "                                                              weights=x['sample weight']))\n",
    "\n",
    "point_est = pd.DataFrame({\"heat ddays 2009\":heat_09,   \n",
    "                          \"cool ddays 2009\":cool_09,\n",
    "                          \"heat ddays 2015\":heat_15,\n",
    "                          \"cool ddays 2015\":cool_15,\n",
    "                               })\n",
    "\n",
    "point_est.reset_index(inplace=True)"
   ]
  },
  {
   "cell_type": "markdown",
   "id": "3dc16d1a",
   "metadata": {},
   "source": [
    "### Q1 - part b)"
   ]
  },
  {
   "cell_type": "code",
   "execution_count": 5,
   "id": "d0431e07",
   "metadata": {},
   "outputs": [],
   "source": [
    "long_09 = df_2009_brrwt.melt(id_vars=[\"census region\"], \n",
    "                             value_vars=[\"brr_weight_\"+str(i) for i in range(1,df_2009_brrwt.shape[1]-1)])\n",
    "\n",
    "long_15 = df_2015_brrwt.melt(id_vars=[\"census region\"], \n",
    "                             value_vars=[\"BRRWT\"+str(i) for i in range(1,df_2015_brrwt.shape[1]-1)])"
   ]
  },
  {
   "cell_type": "markdown",
   "id": "de706ac7",
   "metadata": {},
   "source": [
    "# Question 2 - Construct and report the estimates"
   ]
  },
  {
   "cell_type": "code",
   "execution_count": 6,
   "id": "5b011e9e",
   "metadata": {},
   "outputs": [],
   "source": [
    "bwrrt_09 = df_2009_brrwt.T\n",
    "bwrrt_15 = df_2015_brrwt.T\n",
    "\n",
    "#bwrrt_09.reset_index(inplace=True)\n",
    "#bwrrt_15.reset_index(inplace=True)"
   ]
  },
  {
   "cell_type": "code",
   "execution_count": 7,
   "id": "c6d99c18",
   "metadata": {},
   "outputs": [],
   "source": [
    "mask1_09 = (df_2009['census region']==1).values\n",
    "mask2_09 = (df_2009['census region']==2).values\n",
    "mask3_09 = (df_2009['census region']==3).values\n",
    "mask4_09 = (df_2009['census region']==4).values "
   ]
  },
  {
   "cell_type": "code",
   "execution_count": 8,
   "id": "9ee6d160",
   "metadata": {},
   "outputs": [],
   "source": [
    "heat_cat3_09 = bwrrt_09.apply(lambda x: np.average(df_2009[mask1_09]['heating degree days'],\n",
    "                                       weights=x.iloc[mask1_09]),axis=1)"
   ]
  },
  {
   "cell_type": "code",
   "execution_count": 9,
   "id": "3d502d95",
   "metadata": {
    "lines_to_next_cell": 2
   },
   "outputs": [],
   "source": [
    "#Calculates the point estimate using the replicated weights for each year and Census region.\n",
    "\n",
    "mask1_09 = (df_2009['census region']==1).values\n",
    "mask2_09 = (df_2009['census region']==2).values\n",
    "mask3_09 = (df_2009['census region']==3).values\n",
    "mask4_09 = (df_2009['census region']==4).values \n",
    "\n",
    "mask1_15 = (df_2015['census region']==1).values\n",
    "mask2_15 = (df_2015['census region']==2).values \n",
    "mask3_15 = (df_2015['census region']==3).values \n",
    "mask4_15 = (df_2015['census region']==4).values\n",
    "\n",
    "\n",
    "heat_cat1_09 = bwrrt_09.apply(lambda x: np.average(df_2009[mask1_09]['heating degree days'],weights=x.iloc[mask1_09]),axis=1)\n",
    "heat_cat2_09 = bwrrt_09.apply(lambda x: np.average(df_2009[mask2_09]['heating degree days'],\n",
    "                                       weights=x.iloc[mask2_09]),axis=1)\n",
    "heat_cat3_09 = bwrrt_09.apply(lambda x: np.average(df_2009[mask3_09]['heating degree days'],\n",
    "                                       weights=x.iloc[mask3_09]),axis=1)\n",
    "heat_cat4_09 = bwrrt_09.apply(lambda x: np.average(df_2009[mask4_09]['heating degree days'],\n",
    "                                       weights=x.iloc[mask4_09]),axis=1)\n",
    "\n",
    "cool_cat1_09 = bwrrt_09.apply(lambda x: np.average(df_2009[mask1_09]['cooling degree days'],\n",
    "                                       weights=x.iloc[mask1_09]),axis=1)\n",
    "cool_cat2_09 = bwrrt_09.apply(lambda x: np.average(df_2009[mask2_09]['cooling degree days'],\n",
    "                                       weights=x.iloc[mask2_09]),axis=1)\n",
    "cool_cat3_09 = bwrrt_09.apply(lambda x: np.average(df_2009[mask3_09]['cooling degree days'],\n",
    "                                       weights=x.iloc[mask3_09]),axis=1)\n",
    "cool_cat4_09 = bwrrt_09.apply(lambda x: np.average(df_2009[mask4_09]['cooling degree days'],\n",
    "                                       weights=x.iloc[mask4_09]),axis=1)\n",
    "\n",
    "bwrrt_09 = bwrrt_09.assign(heat_ddays_cat1=heat_cat1_09,\n",
    "                         heat_ddays_cat2=heat_cat2_09,\n",
    "                         heat_ddays_cat3=heat_cat3_09,\n",
    "                         heat_ddays_cat4=heat_cat4_09,\n",
    "                         cool_ddays_cat1=cool_cat1_09,\n",
    "                         cool_ddays_cat2=cool_cat2_09,\n",
    "                         cool_ddays_cat3=cool_cat3_09,\n",
    "                         cool_ddays_cat4=cool_cat4_09,)\n",
    "\n",
    "\n",
    "heat_cat1_15 = bwrrt_15.apply(lambda x: np.average(df_2015[mask1_15]['heating degree days'],\n",
    "                                       weights=x.iloc[mask1_15]),axis=1)\n",
    "heat_cat2_15 = bwrrt_15.apply(lambda x: np.average(df_2015[mask2_15]['heating degree days'],\n",
    "                                       weights=x.iloc[mask2_15]),axis=1)\n",
    "heat_cat3_15 = bwrrt_15.apply(lambda x: np.average(df_2015[mask3_15]['heating degree days'],\n",
    "                                       weights=x.iloc[mask3_15]),axis=1)\n",
    "heat_cat4_15 = bwrrt_15.apply(lambda x: np.average(df_2015[mask4_15]['heating degree days'],\n",
    "                                       weights=x.iloc[mask4_15]),axis=1)\n",
    "\n",
    "cool_cat1_15 = bwrrt_15.apply(lambda x: np.average(df_2015[mask1_15]['cooling degree days'],\n",
    "                                       weights=x.iloc[mask1_15]),axis=1)\n",
    "cool_cat2_15 = bwrrt_15.apply(lambda x: np.average(df_2015[mask2_15]['cooling degree days'],\n",
    "                                       weights=x.iloc[mask2_15]),axis=1)\n",
    "cool_cat3_15 = bwrrt_15.apply(lambda x: np.average(df_2015[mask3_15]['cooling degree days'],\n",
    "                                       weights=x.iloc[mask3_15]),axis=1)\n",
    "cool_cat4_15 = bwrrt_15.apply(lambda x: np.average(df_2015[mask4_15]['cooling degree days'],\n",
    "                                       weights=x.iloc[mask4_15]),axis=1)\n",
    "\n",
    "bwrrt_15 = bwrrt_15.assign(heat_ddays_cat1=heat_cat1_15,\n",
    "                         heat_ddays_cat2=heat_cat2_15,\n",
    "                         heat_ddays_cat3=heat_cat3_15,\n",
    "                         heat_ddays_cat4=heat_cat4_15,\n",
    "                         cool_ddays_cat1=cool_cat1_15,\n",
    "                         cool_ddays_cat2=cool_cat2_15,\n",
    "                         cool_ddays_cat3=cool_cat3_15,\n",
    "                         cool_ddays_cat4=cool_cat4_15,)\n"
   ]
  },
  {
   "cell_type": "code",
   "execution_count": 10,
   "id": "03854e4a",
   "metadata": {},
   "outputs": [],
   "source": [
    "def calculate_variance(df=df_2009, df_brrw=bwrrt_09, cat=1, variable=\"heat\"):\n",
    "    \"\"\"\n",
    "    Parameters:\n",
    "    ----------\n",
    "    df: Dataframe with the actual data about heating and cooling degree days with full sample weights.\n",
    "    df_brrw: Datframe with the calculated heating and cooling days with the replicate weights.\n",
    "    cat: Category of Census Region in int.\n",
    "    variable: \"heat\" or \"cool\"\n",
    "    Return:\n",
    "    ------\n",
    "    Returns the variance using the Fay's method over the RECS with an Fay coefficient, epsilon=0.5.\n",
    "    \"\"\"\n",
    "    point_est = df.groupby(['census region']).apply(lambda x: np.average(x['heating degree days'],\n",
    "                                                              weights=x['sample weight']))[cat]\n",
    "    R = df_brrw.shape[0]-1\n",
    "    epsilon = 0.5\n",
    "    variance = np.sum((point_est-df_brrw[variable+\"_ddays_cat\"+str(cat)])**2)/(R*(1-epsilon)**2)\n",
    "    return variance\n",
    "\n",
    "\n",
    "point_est[\"variance heat 2009\"] = \\\n",
    "point_est.apply(lambda x: calculate_variance(df_2009, bwrrt_09, x['census region'], \"heat\"), axis=1)\n",
    "point_est[\"variance cool 2009\"] = \\\n",
    "point_est.apply(lambda x: calculate_variance(df_2009, bwrrt_09, x['census region'], \"cool\"), axis=1)\n",
    "\n",
    "point_est[\"variance heat 2015\"] = \\\n",
    "point_est.apply(lambda x: calculate_variance(df_2015, bwrrt_15, x['census region'], \"heat\"), axis=1)\n",
    "point_est[\"variance cool 2015\"] = \\\n",
    "point_est.apply(lambda x: calculate_variance(df_2015, bwrrt_15, x['census region'], \"cool\"), axis=1)"
   ]
  },
  {
   "cell_type": "code",
   "execution_count": 11,
   "id": "8b8d9c39",
   "metadata": {},
   "outputs": [],
   "source": [
    "def compute_statistics(x,Var=0,CI=0.95,\n",
    "                       formt=\"{0:.3f} [{1:.0f}% CI: ({2:.2f} , {3:.2f})]\"):\n",
    "    \"\"\"\n",
    "    Calculates a point estimates and a confidence interval assuming a gaussian distribution.\n",
    "    Parameters:\n",
    "    ----------\n",
    "        x = Point estimate of the statistic.\n",
    "        Var = Variance \n",
    "        CI = Confidence interval\n",
    "        formt = Format of output.\n",
    "    Returns:\n",
    "    -------\n",
    "        String with point estimate and confidence interval or \n",
    "        Dictionary with keys \"est\",\"lwr\",\"upr\",\"level\" if formt is None.\n",
    "    \"\"\"\n",
    "    std = np.sqrt(Var)\n",
    "    z = (1+CI)/2.\n",
    "    up = x + norm.ppf(q=z)*std\n",
    "    lw = x + norm.ppf(q=1-z)*std\n",
    "    line = formt.format(x, 100*CI, lw, up)\n",
    "    if formt==None:\n",
    "        output = {}\n",
    "        output[\"est\"] = x\n",
    "        output[\"lwr\"] = lw\n",
    "        output[\"upr\"] = up\n",
    "        output[\"level\"] = CI\n",
    "        return output\n",
    "    return line\n",
    "\n",
    "\n",
    "point_est[\"CI heating ddays 09' \"] = point_est.apply(lambda y: compute_statistics(x=y['heat ddays 2009'],\n",
    "                                                                                  Var=y['variance heat 2009']),\n",
    "                                                     axis=1)\n",
    "\n",
    "point_est[\"CI cooling ddays 09' \"] = point_est.apply(lambda y: compute_statistics(x=y['cool ddays 2009'],\n",
    "                                                                                  Var=y['variance cool 2009']),\n",
    "                                                     axis=1)\n",
    "\n",
    "point_est[\"CI heating ddays 15' \"] = point_est.apply(lambda y: compute_statistics(x=y['heat ddays 2015'],\n",
    "                                                                                  Var=y['variance heat 2015']),\n",
    "                                                     axis=1)\n",
    "\n",
    "point_est[\"CI cooling ddays 15' \"] = point_est.apply(lambda y: compute_statistics(x=y['cool ddays 2015'],\n",
    "                                                                                  Var=y['variance cool 2015']),\n",
    "                                                     axis=1)\n"
   ]
  },
  {
   "cell_type": "code",
   "execution_count": 12,
   "id": "3b5ba4af",
   "metadata": {
    "lines_to_next_cell": 2
   },
   "outputs": [
    {
     "data": {
      "text/html": [
       "<div>\n",
       "<style scoped>\n",
       "    .dataframe tbody tr th:only-of-type {\n",
       "        vertical-align: middle;\n",
       "    }\n",
       "\n",
       "    .dataframe tbody tr th {\n",
       "        vertical-align: top;\n",
       "    }\n",
       "\n",
       "    .dataframe thead th {\n",
       "        text-align: right;\n",
       "    }\n",
       "</style>\n",
       "<table border=\"1\" class=\"dataframe\">\n",
       "  <thead>\n",
       "    <tr style=\"text-align: right;\">\n",
       "      <th></th>\n",
       "      <th>CI heating ddays 09'</th>\n",
       "      <th>CI cooling ddays 09'</th>\n",
       "      <th>CI heating ddays 15'</th>\n",
       "      <th>CI cooling ddays 15'</th>\n",
       "    </tr>\n",
       "  </thead>\n",
       "  <tbody>\n",
       "    <tr>\n",
       "      <th>0</th>\n",
       "      <td>5700.988 [95% CI: (5616.84 , 5785.14)]</td>\n",
       "      <td>680.715 [95% CI: (-19038.88 , 20400.31)]</td>\n",
       "      <td>5695.673 [95% CI: (5528.61 , 5862.73)]</td>\n",
       "      <td>983.920 [95% CI: (-17593.83 , 19561.67)]</td>\n",
       "    </tr>\n",
       "    <tr>\n",
       "      <th>1</th>\n",
       "      <td>6325.337 [95% CI: (6233.22 , 6417.45)]</td>\n",
       "      <td>660.888 [95% CI: (-21587.98 , 22909.76)]</td>\n",
       "      <td>5785.490 [95% CI: (5632.73 , 5938.25)]</td>\n",
       "      <td>956.074 [95% CI: (-18074.42 , 19986.57)]</td>\n",
       "    </tr>\n",
       "    <tr>\n",
       "      <th>2</th>\n",
       "      <td>2696.668 [95% CI: (2592.72 , 2800.61)]</td>\n",
       "      <td>2207.728 [95% CI: (284.82 , 4130.63)]</td>\n",
       "      <td>2211.880 [95% CI: (2056.15 , 2367.61)]</td>\n",
       "      <td>2639.851 [95% CI: (950.82 , 4328.88)]</td>\n",
       "    </tr>\n",
       "    <tr>\n",
       "      <th>3</th>\n",
       "      <td>3259.641 [95% CI: (3085.72 , 3433.56)]</td>\n",
       "      <td>1328.642 [95% CI: (-6258.88 , 8916.17)]</td>\n",
       "      <td>2814.831 [95% CI: (2624.34 , 3005.32)]</td>\n",
       "      <td>1576.774 [95% CI: (-3305.87 , 6459.42)]</td>\n",
       "    </tr>\n",
       "  </tbody>\n",
       "</table>\n",
       "</div>"
      ],
      "text/plain": [
       "                    CI heating ddays 09'   \\\n",
       "0  5700.988 [95% CI: (5616.84 , 5785.14)]   \n",
       "1  6325.337 [95% CI: (6233.22 , 6417.45)]   \n",
       "2  2696.668 [95% CI: (2592.72 , 2800.61)]   \n",
       "3  3259.641 [95% CI: (3085.72 , 3433.56)]   \n",
       "\n",
       "                      CI cooling ddays 09'   \\\n",
       "0  680.715 [95% CI: (-19038.88 , 20400.31)]   \n",
       "1  660.888 [95% CI: (-21587.98 , 22909.76)]   \n",
       "2     2207.728 [95% CI: (284.82 , 4130.63)]   \n",
       "3   1328.642 [95% CI: (-6258.88 , 8916.17)]   \n",
       "\n",
       "                    CI heating ddays 15'   \\\n",
       "0  5695.673 [95% CI: (5528.61 , 5862.73)]   \n",
       "1  5785.490 [95% CI: (5632.73 , 5938.25)]   \n",
       "2  2211.880 [95% CI: (2056.15 , 2367.61)]   \n",
       "3  2814.831 [95% CI: (2624.34 , 3005.32)]   \n",
       "\n",
       "                      CI cooling ddays 15'   \n",
       "0  983.920 [95% CI: (-17593.83 , 19561.67)]  \n",
       "1  956.074 [95% CI: (-18074.42 , 19986.57)]  \n",
       "2     2639.851 [95% CI: (950.82 , 4328.88)]  \n",
       "3   1576.774 [95% CI: (-3305.87 , 6459.42)]  "
      ]
     },
     "execution_count": 12,
     "metadata": {},
     "output_type": "execute_result"
    }
   ],
   "source": [
    "point_est.loc[:,[\"CI heating ddays 09' \",\"CI cooling ddays 09' \",\n",
    "                 \"CI heating ddays 15' \",\"CI cooling ddays 15' \"]]"
   ]
  },
  {
   "cell_type": "markdown",
   "id": "5356ddaf",
   "metadata": {},
   "source": [
    "### Q2 part b)"
   ]
  },
  {
   "cell_type": "code",
   "execution_count": 13,
   "id": "002d0d91",
   "metadata": {},
   "outputs": [],
   "source": [
    "#Calculates the variance of the difference between point estimates.\n",
    "\n",
    "point_est[\"Variance difference heat 15' - 09'\"] = point_est[\"variance heat 2009\"] \\\n",
    "+ point_est[\"variance heat 2015\"]\n",
    "point_est[\"Variance difference cool 15' - 09'\"] = point_est[\"variance cool 2009\"] \\\n",
    "+ point_est[\"variance cool 2015\"]\n",
    "\n",
    "\n",
    "#Calculates the difference between point estimates.\n",
    "point_est[\"Estimate difference heat 15' - 09'\"] = point_est[\"heat ddays 2015\"]-point_est[\"heat ddays 2009\"]\n",
    "point_est[\"Estimate difference cool 15' - 09'\"] = point_est[\"cool ddays 2015\"]-point_est[\"cool ddays 2009\"]\n",
    "\n",
    "\n",
    "\n",
    "#Calculates the confidence interval of the difference between point estimates.\n",
    "\n",
    "point_est[\"CI difference heat 15'-09' \"] = \\\n",
    "point_est.apply(lambda y: compute_statistics(x=y[\"Estimate difference heat 15' - 09'\"], \n",
    "                                             Var=y[\"Variance difference heat 15' - 09'\"]), \n",
    "                axis=1)\n",
    "\n",
    "point_est[\"CI difference cool 15'-09' \"] = \\\n",
    "point_est.apply(lambda y: compute_statistics(x=y[\"Estimate difference cool 15' - 09'\"],\n",
    "                                             Var=y[\"Variance difference cool 15' - 09'\"]),\n",
    "                axis=1)\n"
   ]
  },
  {
   "cell_type": "code",
   "execution_count": 14,
   "id": "7efaa4a5",
   "metadata": {},
   "outputs": [
    {
     "data": {
      "text/html": [
       "<div>\n",
       "<style scoped>\n",
       "    .dataframe tbody tr th:only-of-type {\n",
       "        vertical-align: middle;\n",
       "    }\n",
       "\n",
       "    .dataframe tbody tr th {\n",
       "        vertical-align: top;\n",
       "    }\n",
       "\n",
       "    .dataframe thead th {\n",
       "        text-align: right;\n",
       "    }\n",
       "</style>\n",
       "<table border=\"1\" class=\"dataframe\">\n",
       "  <thead>\n",
       "    <tr style=\"text-align: right;\">\n",
       "      <th></th>\n",
       "      <th>census region</th>\n",
       "      <th>CI difference heat 15'-09'</th>\n",
       "      <th>CI difference cool 15'-09'</th>\n",
       "    </tr>\n",
       "  </thead>\n",
       "  <tbody>\n",
       "    <tr>\n",
       "      <th>0</th>\n",
       "      <td>1</td>\n",
       "      <td>-5.315 [95% CI: (-192.37 , 181.74)]</td>\n",
       "      <td>303.205 [95% CI: (-26789.14 , 27395.55)]</td>\n",
       "    </tr>\n",
       "    <tr>\n",
       "      <th>1</th>\n",
       "      <td>2</td>\n",
       "      <td>-539.847 [95% CI: (-718.23 , -361.46)]</td>\n",
       "      <td>295.186 [95% CI: (-28982.32 , 29572.69)]</td>\n",
       "    </tr>\n",
       "    <tr>\n",
       "      <th>2</th>\n",
       "      <td>3</td>\n",
       "      <td>-484.788 [95% CI: (-672.02 , -297.55)]</td>\n",
       "      <td>432.123 [95% CI: (-2127.25 , 2991.50)]</td>\n",
       "    </tr>\n",
       "    <tr>\n",
       "      <th>3</th>\n",
       "      <td>4</td>\n",
       "      <td>-444.811 [95% CI: (-702.75 , -186.87)]</td>\n",
       "      <td>248.132 [95% CI: (-8774.66 , 9270.92)]</td>\n",
       "    </tr>\n",
       "  </tbody>\n",
       "</table>\n",
       "</div>"
      ],
      "text/plain": [
       "  census region             CI difference heat 15'-09'   \\\n",
       "0             1     -5.315 [95% CI: (-192.37 , 181.74)]   \n",
       "1             2  -539.847 [95% CI: (-718.23 , -361.46)]   \n",
       "2             3  -484.788 [95% CI: (-672.02 , -297.55)]   \n",
       "3             4  -444.811 [95% CI: (-702.75 , -186.87)]   \n",
       "\n",
       "                CI difference cool 15'-09'   \n",
       "0  303.205 [95% CI: (-26789.14 , 27395.55)]  \n",
       "1  295.186 [95% CI: (-28982.32 , 29572.69)]  \n",
       "2    432.123 [95% CI: (-2127.25 , 2991.50)]  \n",
       "3    248.132 [95% CI: (-8774.66 , 9270.92)]  "
      ]
     },
     "execution_count": 14,
     "metadata": {},
     "output_type": "execute_result"
    }
   ],
   "source": [
    "point_est.loc[:,[\"census region\",\"CI difference heat 15'-09' \",\"CI difference cool 15'-09' \"]]"
   ]
  },
  {
   "cell_type": "markdown",
   "id": "35082097",
   "metadata": {},
   "source": [
    "# Question 3"
   ]
  },
  {
   "cell_type": "code",
   "execution_count": 15,
   "id": "1e1f2fc1",
   "metadata": {},
   "outputs": [],
   "source": [
    "plt.style.use(['seaborn-white'])\n",
    "\n",
    "plt.rc('xtick', labelsize=11) \n",
    "plt.rc('ytick', labelsize=11) "
   ]
  },
  {
   "cell_type": "code",
   "execution_count": 16,
   "id": "611b5dff",
   "metadata": {},
   "outputs": [
    {
     "data": {
      "image/png": "[encoded data removed]",
      "text/plain": [
       "<Figure size 720x288 with 4 Axes>"
      ]
     },
     "metadata": {},
     "output_type": "display_data"
    }
   ],
   "source": [
    "fig, axs = plt.subplots(2, 2, figsize=(10,4))\n",
    "                    \n",
    "axs[0,0].hist(bwrrt_09['heat_ddays_cat1'], color='goldenrod', label=\"2009\",\n",
    "              alpha=0.4, density=True, bins=7)\n",
    "axs[0,0].hist(bwrrt_15['heat_ddays_cat1'], color='r', label=\"2015\",\n",
    "              alpha=0.4, density=True, bins=7)\n",
    "axs[0,0].set_xlabel('Heating Degree Days North East')\n",
    "axs[0,0].legend()\n",
    "axs[0,0].set_ylabel(\"Normalized Frequency\")\n",
    "\n",
    "\n",
    "axs[0,1].hist(bwrrt_09['heat_ddays_cat2'], color='goldenrod', label=\"2009\",\n",
    "              alpha=0.4, density=True, bins=7)\n",
    "axs[0,1].hist(bwrrt_15['heat_ddays_cat2'], color='r', label=\"2015\",\n",
    "              alpha=0.4, density=True, bins=7)\n",
    "axs[0,1].set_xlabel('Heating Degree Days MidWest')\n",
    "axs[0,1].legend()\n",
    "\n",
    "\n",
    "axs[1,0].hist(bwrrt_09['heat_ddays_cat3'], color='goldenrod', label=\"2009\",\n",
    "              alpha=0.4, density=True, bins=7)\n",
    "axs[1,0].hist(bwrrt_15['heat_ddays_cat3'], color='r', label=\"2015\",\n",
    "              alpha=0.4, density=True, bins=7)\n",
    "axs[1,0].set_xlabel('Heating Degree Days South')\n",
    "axs[1,0].legend(loc=9)\n",
    "axs[1,0].set_ylabel(\"Normalized Frequency\")\n",
    "\n",
    "\n",
    "axs[1,1].hist(bwrrt_09['heat_ddays_cat4'], color='goldenrod', label=\"2009\",\n",
    "              alpha=0.4, density=True, bins=7)\n",
    "axs[1,1].hist(bwrrt_15['heat_ddays_cat4'], color='r', label=\"2015\",\n",
    "              alpha=0.4, density=True, bins=7)\n",
    "axs[1,1].set_xlabel('Heating Degree Days West')\n",
    "axs[1,1].legend(loc=9)\n",
    "\n",
    "\n",
    "\n",
    "plt.tight_layout()"
   ]
  },
  {
   "cell_type": "markdown",
   "id": "6d93ad2b",
   "metadata": {},
   "source": [
    "**Figure 1**: Histogram of the heating degree days of 2009 and 2015 using the replicated weights for each Census region."
   ]
  },
  {
   "cell_type": "code",
   "execution_count": 17,
   "id": "85441b4d",
   "metadata": {},
   "outputs": [
    {
     "data": {
      "image/png": "[encoded data removed]",
      "text/plain": [
       "<Figure size 720x288 with 4 Axes>"
      ]
     },
     "metadata": {},
     "output_type": "display_data"
    }
   ],
   "source": [
    "fig, axs = plt.subplots(2, 2,figsize=(10,4))\n",
    "                    \n",
    "axs[0,0].hist(bwrrt_09['cool_ddays_cat1'], color='b', label=\"2009\",\n",
    "              alpha=0.4, density=True, bins=7)\n",
    "axs[0,0].hist(bwrrt_15['cool_ddays_cat1'], color='c', label=\"2015\",\n",
    "              alpha=0.4, density=True, bins=7)\n",
    "axs[0,0].set_xlabel('Cooling Degree Days NorthEast')\n",
    "axs[0,0].legend(loc=9)\n",
    "axs[0,0].set_ylabel(\"Normalized Frequency\")\n",
    "\n",
    "\n",
    "axs[0,1].hist(bwrrt_09['cool_ddays_cat2'], color='b', label=\"2009\",\n",
    "              alpha=0.4, density=True, bins=7)\n",
    "axs[0,1].hist(bwrrt_15['cool_ddays_cat2'], color='c', label=\"2015\",\n",
    "              alpha=0.4, density=True, bins=7)\n",
    "axs[0,1].set_xlabel('Cooling Degree Days MidWest')\n",
    "axs[0,1].legend(loc=9)\n",
    "\n",
    "\n",
    "axs[1,0].hist(bwrrt_09['cool_ddays_cat3'], color='b', label=\"2009\",\n",
    "              alpha=0.4, density=True, bins=7)\n",
    "axs[1,0].hist(bwrrt_15['cool_ddays_cat3'], color='c', label=\"2015\",\n",
    "              alpha=0.4, density=True, bins=7)\n",
    "axs[1,0].set_xlabel('Cooling Degree Days South')\n",
    "axs[1,0].legend(loc=9)\n",
    "axs[1,0].set_ylabel(\"Normalized Frequency\")\n",
    "\n",
    "\n",
    "axs[1,1].hist(bwrrt_09['cool_ddays_cat4'], color='b', label=\"2009\",\n",
    "              alpha=0.4, density=True, bins=7)\n",
    "axs[1,1].hist(bwrrt_15['cool_ddays_cat4'], color='c', label=\"2015\",\n",
    "              alpha=0.4, density=True, bins=7)\n",
    "axs[1,1].set_xlabel('Cooling Degree Days West')\n",
    "axs[1,1].legend(loc=9)\n",
    "\n",
    "\n",
    "\n",
    "plt.tight_layout()"
   ]
  },
  {
   "cell_type": "markdown",
   "id": "a5241c65",
   "metadata": {},
   "source": [
    "**Figure 2**: Histogram of the cooling degree days of 2009 and 2015 using the replicated weights for each Census region."
   ]
  },
  {
   "cell_type": "code",
   "execution_count": 18,
   "id": "3b9a8616",
   "metadata": {},
   "outputs": [
    {
     "data": {
      "image/png": "[encoded data removed]",
      "text/plain": [
       "<Figure size 720x216 with 2 Axes>"
      ]
     },
     "metadata": {},
     "output_type": "display_data"
    }
   ],
   "source": [
    "plt.rc('xtick', labelsize=12) \n",
    "plt.rc('ytick', labelsize=12) \n",
    "\n",
    "fig, axs = plt.subplots(1, 2, sharex=True, sharey=True, figsize=(10,3))\n",
    "                    \n",
    "axs[0].errorbar(point_est[\"census region\"],\n",
    "                point_est[\"heat ddays 2009\"],\n",
    "                np.sqrt(point_est[\"variance heat 2009\"]),\n",
    "                marker='o', ls=\"\", c=\"goldenrod\", ms=6)\n",
    "\n",
    "axs[0].set_xlim([0.5,4.5])\n",
    "axs[0].set_xlabel('Census Region', fontsize=13)\n",
    "axs[0].set_ylabel('Heating Degree Days 2009', fontsize=13)\n",
    "\n",
    "axs[1].errorbar(point_est[\"census region\"],\n",
    "                point_est[\"heat ddays 2015\"],\n",
    "                np.sqrt(point_est[\"variance heat 2015\"]),\n",
    "                marker='o', ls=\"\", c=\"red\", ms=6)\n",
    "\n",
    "axs[1].set_xlim([0.5,4.5])\n",
    "axs[1].set_xticks([1,2,3,4])\n",
    "axs[1].set_xticklabels(regions_names)\n",
    "axs[1].set_xlabel('Census Region', fontsize=13)\n",
    "axs[1].set_ylabel('Heating Degree Days 2015', fontsize=13)\n",
    "\n",
    "\n",
    "plt.tight_layout()\n"
   ]
  },
  {
   "cell_type": "markdown",
   "id": "02054ea8",
   "metadata": {},
   "source": [
    "**Figure 3**: Heating degree days estimates for 2009 and 2015 for each Census region with 95% confidence intervals using Fay's method of balanced repeated replication."
   ]
  },
  {
   "cell_type": "code",
   "execution_count": 19,
   "id": "a95dab5c",
   "metadata": {},
   "outputs": [
    {
     "data": {
      "image/png": "[encoded data removed]",
      "text/plain": [
       "<Figure size 792x288 with 2 Axes>"
      ]
     },
     "metadata": {},
     "output_type": "display_data"
    }
   ],
   "source": [
    "fig, axs = plt.subplots(1, 2, sharex=True, sharey=True, figsize=(11,4))\n",
    "\n",
    "axs[0].errorbar(point_est[\"census region\"],\n",
    "                point_est[\"cool ddays 2009\"],\n",
    "                np.sqrt(point_est[\"variance cool 2009\"]),\n",
    "                marker='o', ls=\"\", c='b', ms=6)\n",
    "axs[0].set_ylim(bottom=0)\n",
    "axs[0].set_xticks([1,2,3,4])\n",
    "axs[0].set_xlim([0.5,4.5])\n",
    "axs[0].set_xticklabels(regions_names)\n",
    "axs[0].set_xlabel('Census Region', fontsize=13)\n",
    "axs[0].set_ylabel('Cooling Degree Days 2009', fontsize=13)\n",
    "\n",
    "axs[1].errorbar(point_est[\"census region\"],\n",
    "                point_est[\"cool ddays 2015\"],\n",
    "                np.sqrt(point_est[\"variance cool 2015\"]),\n",
    "                marker='o', ls=\"\", c='c', ms=6)\n",
    "axs[1].set_ylim(bottom=0, top=11000)\n",
    "axs[1].set_xticks([1,2,3,4])\n",
    "axs[1].set_xlim([0.5,4.5])\n",
    "axs[1].set_xticklabels(regions_names)\n",
    "axs[1].set_xlabel('Census Region', fontsize=13)\n",
    "axs[1].set_ylabel('Cooling Degree Days 2015', fontsize=13)\n",
    "\n",
    "\n",
    "plt.tight_layout()"
   ]
  },
  {
   "cell_type": "markdown",
   "id": "4ae75ffb",
   "metadata": {},
   "source": [
    "**Figure 4**: Cooling degree days estimates for 2009 and 2015 for each Census region with 95% confidence intervals using Fay's method of balanced repeated replication."
   ]
  },
  {
   "cell_type": "code",
   "execution_count": 20,
   "id": "b98a30ef",
   "metadata": {},
   "outputs": [
    {
     "data": {
      "image/png": "[encoded data removed]",
      "text/plain": [
       "<Figure size 720x288 with 2 Axes>"
      ]
     },
     "metadata": {},
     "output_type": "display_data"
    }
   ],
   "source": [
    "fig, axs = plt.subplots(1, 2, sharex=True, figsize=(10,4))\n",
    "\n",
    "axs[0].errorbar(point_est[\"census region\"],\n",
    "                point_est[\"Estimate difference heat 15' - 09'\"],\n",
    "                np.sqrt(point_est[\"Variance difference heat 15' - 09'\"]),\n",
    "                marker='o', ls=\"\", c=\"k\", ms=6)\n",
    "axs[0].set_xticks([1,2,3,4])\n",
    "axs[0].set_xlim([0.5,4.5])\n",
    "axs[0].set_xticklabels(regions_names)\n",
    "axs[0].set_xlabel('Census Region', fontsize=13)\n",
    "axs[0].set_ylabel('Change in Heating degree days from 09\\' to 15\\'')\n",
    "\n",
    "axs[1].errorbar(point_est[\"census region\"],\n",
    "                point_est[\"Estimate difference cool 15' - 09'\"],\n",
    "                np.sqrt(point_est[\"Variance difference cool 15' - 09'\"]),\n",
    "                marker='o', ls=\"\", c=\"k\", ms=6)\n",
    "axs[1].set_xticks([1,2,3,4])\n",
    "axs[1].set_xlim([0.5,4.5])\n",
    "axs[1].set_xticklabels(regions_names)\n",
    "axs[1].set_xlabel('Census Region', fontsize=13)\n",
    "axs[1].set_ylabel('Change in Cooling degree days from 09\\' to 15\\'')\n",
    "\n",
    "\n",
    "plt.tight_layout()"
   ]
  },
  {
   "cell_type": "markdown",
   "id": "b92cbd74",
   "metadata": {},
   "source": [
    "**Figure 5**: Change of heating and cooling degree days between 2009 and 2015 for each Census region with their respective variance using Fay's method of balanced repeated replication."
   ]
  }
 ],
 "metadata": {
  "jupytext": {
   "formats": "ipynb,py:light"
  },
  "kernelspec": {
   "display_name": "Python 3",
   "language": "python",
   "name": "python3"
  },
  "language_info": {
   "codemirror_mode": {
    "name": "ipython",
    "version": 3
   },
   "file_extension": ".py",
   "mimetype": "text/x-python",
   "name": "python",
   "nbconvert_exporter": "python",
   "pygments_lexer": "ipython3",
   "version": "3.6.5"
  }
 },
 "nbformat": 4,
 "nbformat_minor": 5
}
