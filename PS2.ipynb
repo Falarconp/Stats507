{
 "cells": [
  {
   "cell_type": "code",
   "execution_count": 1,
   "id": "d2535a78",
   "metadata": {},
   "outputs": [],
   "source": [
    "import pandas as pd\n",
    "import numpy as np\n",
    "from numpy.random import randint\n",
    "import requests\n",
    "import io\n",
    "import timeit\n",
    "from pprint import pprint"
   ]
  },
  {
   "cell_type": "markdown",
   "id": "6dd43a7e",
   "metadata": {},
   "source": [
    "# Question 0 - Code review warmup"
   ]
  },
  {
   "cell_type": "code",
   "execution_count": 2,
   "id": "7073a44d",
   "metadata": {},
   "outputs": [],
   "source": [
    "#sample_list = [(1, 3, 5), (0, 1, 2), (1, 9, 8)]\n",
    "#op = []\n",
    "\n",
    "#for m in range(len(sample_list)):\n",
    "#    li = [sample_list[m]]\n",
    "#    for n in range(len(sample_list)):\n",
    "#        if (sample_list[m][0] == sample_list[n][0] and sample_list[m][3] != sample_list[n][3]):\n",
    "#            li.append(sample_list[n])\n",
    "#    op.append(sorted(li, key=lambda dd: dd[3], reverse=True)[0])\n",
    "#res = list(set(op))\n",
    "\n"
   ]
  },
  {
   "cell_type": "markdown",
   "id": "01739d55",
   "metadata": {},
   "source": [
    "The code takes a list of tuples and collects the ones with the same first and fourth element in a list. Finally it returns the tuple with the largest 4th element in the tuple among the ones with a common 1st element.\n",
    "\n",
    "The syntax  of the code can be improved as the number of comparisons it makes are much more than the necessary ones. Some smart indexing can avoid many of the comparison; farther the two nested loops are not necessary. Some comparisons are repated several times, which can be avoided by a previous sorting or ignoring comparisosn that were already made.\n",
    "\n",
    "The  style of the snippet is ok in some parts, but in other parts the variables' names do not provide significant meaning, as \"li\" or \"op\". What those variables are supposed to contain is not really clear. More meaningful and clear names could be used.\n",
    "\n",
    "The code does not really work because it compares the 4th element of the tuples, but the tuples only have 3 elements, therefore the comparison will not work in tuples of that size.\n",
    "\n",
    "Overall, the syntax of the code can definitely be improves, and even if the code works with larger tuples is very inefficient.\n"
   ]
  },
  {
   "cell_type": "markdown",
   "id": "c4ba0b0a",
   "metadata": {},
   "source": [
    "# Question 1 - List of Tuples"
   ]
  },
  {
   "cell_type": "code",
   "execution_count": 3,
   "id": "5292f700",
   "metadata": {},
   "outputs": [],
   "source": [
    "def tuple_generator(low=1, high=100, n=10, k=10):\n",
    "    \"\"\"\n",
    "    Returns a list with n tuples with k randomly-generated integers \n",
    "    between low and high.\n",
    "    Inputs:\n",
    "        low: lower bound of random interval.\n",
    "        high: upper bound of random interval.\n",
    "        n: number of tuples, lenght of list.\n",
    "        k: Number of random integers in each tuple.\n",
    "    Output:\n",
    "        List with n tuples with k integers each.\n",
    "    \"\"\"\n",
    "    output = [tuple(np.sort(randint(low, high, size=k))) for i in range(n)]\n",
    "    assert ((type(output)==list) and (type(output[0])==tuple)), 'Output with wrong format.'\n",
    "    return output\n",
    "\n",
    "tuple_list = tuple_generator(1, 10, 20, 5)"
   ]
  },
  {
   "cell_type": "markdown",
   "id": "a0d6e4ad",
   "metadata": {},
   "source": [
    "# Question 2"
   ]
  },
  {
   "cell_type": "code",
   "execution_count": 4,
   "id": "1fe8b945",
   "metadata": {},
   "outputs": [],
   "source": [
    "def code_snippet(sample_list=tuple_list, ind_a=0, ind_b=2):\n",
    "    \"\"\"\n",
    "    Function created with the code snippet.\n",
    "    Inputs:\n",
    "        smaple_list: List of tuples to sort and compare.\n",
    "        ind_a: Index of 1st comaprison\n",
    "        ind_b: Index of 2nd comparison\n",
    "    Output:\n",
    "        Sorted list of tuples.\n",
    "    \"\"\"\n",
    "    out_list = []\n",
    "    for m in range(len(sample_list)):\n",
    "        li = [sample_list[m]]\n",
    "        for n in range(len(sample_list)):\n",
    "            if (sample_list[m][ind_a] == sample_list[n][ind_a] and sample_list[m][ind_b] != sample_list[n][ind_b]):\n",
    "                li.append(sample_list[n])\n",
    "        out_list.append(sorted(li, key=lambda dd: dd[ind_b], reverse=True)[0])\n",
    "    output = list(set(out_list))\n",
    "    return output \n",
    "\n",
    "\n",
    "def Improved_snippet(sample_list=tuple_list, ind_a=0, ind_b=2):\n",
    "    \"\"\"\n",
    "    Improved version of the code snippet.\n",
    "    Inputs:\n",
    "        smaple_list: List of tuples to sort and compare.\n",
    "        ind_a: Index of 1st comaprison\n",
    "        ind_b: Index of 2nd comparison\n",
    "    Output:\n",
    "        Sorted list of tuples.\n",
    "    \"\"\"\n",
    "    out_list = []\n",
    "    sorted_list = sorted(sample_list, key=lambda x: x[ind_a])\n",
    "    aux_var = sorted_list[0]\n",
    "    for i in range(len(sorted_list)):\n",
    "        if (aux_var[ind_a] != sorted_list[i][ind_a] or aux_var[ind_b] < sorted_list[i][ind_b]):\n",
    "             aux_var = sorted_list[i]\n",
    "        for j in range(i+1,len(sorted_list)):\n",
    "            if (sorted_list[i][ind_a] == sorted_list[j][ind_a] and sorted_list[i][ind_b] < sorted_list[j][ind_b]):\n",
    "                aux_var = sorted_list[j]\n",
    "        out_list.append(aux_var)\n",
    "    output = list(set(out_list))\n",
    "    return output \n",
    "\n",
    "\n",
    "def Scratch_sort(sample_list=tuple_list, ind_a=0, ind_b=2):\n",
    "    \"\"\"\n",
    "    Sorting algorithm from scratch.\n",
    "    Inputs:\n",
    "        smaple_list: List of tuples to sort and compare.\n",
    "        ind_a: Index of 1st comaprison\n",
    "        ind_b: Index of 2nd comparison\n",
    "    Output:\n",
    "        Sorted list of tuples.\n",
    "    \"\"\"\n",
    "    output = []\n",
    "    sorted_list = sorted(sample_list, key=lambda x: x[ind_a])\n",
    "    aux_var = sorted_list[0]\n",
    "    for i in range(1,len(sorted_list)):\n",
    "        if aux_var[ind_a]!=sorted_list[i][ind_a]:\n",
    "            output.append(aux_var)\n",
    "            aux_var = sorted_list[i]\n",
    "        else:\n",
    "            if aux_var[ind_b]<sorted_list[i][ind_b]:\n",
    "                aux_var = sorted_list[i]\n",
    "    output.append(aux_var) \n",
    "    return output\n",
    "\n"
   ]
  },
  {
   "cell_type": "code",
   "execution_count": 5,
   "id": "8b4564db",
   "metadata": {},
   "outputs": [],
   "source": [
    "iters = 10000\n",
    "\n",
    "t_code_snippet = timeit.repeat(\"code_snippet(tuple_list)\",\n",
    "                               setup=\"from __main__ import code_snippet, tuple_list\",\n",
    "                              repeat=10, number=iters)\n",
    "t_code_improved = timeit.repeat(\"Improved_snippet(tuple_list)\",\n",
    "                                setup=\"from __main__ import Improved_snippet, tuple_list\",\n",
    "                               repeat=10, number=iters)\n",
    "t_code_scratch = timeit.repeat(\"Scratch_sort(tuple_list)\",\n",
    "                               setup=\"from __main__ import Scratch_sort, tuple_list\",\n",
    "                              repeat=10, number=iters)\n",
    "\n",
    "t_code_snippet  = np.array(t_code_snippet)/iters\n",
    "t_code_improved  = np.array(t_code_improved)/iters\n",
    "t_code_scratch  = np.array(t_code_scratch)/iters\n",
    "\n",
    "str_t_snippet = \"{:.1e}\".format(t_code_snippet.mean())+\" +- \"\\\n",
    "                +\"{:.1e}\".format(t_code_snippet.std())+\" s\"\n",
    "str_t_improved = \"{:.1e}\".format(t_code_improved.mean())+\" +- \"\\\n",
    "                +\"{:.1e}\".format(t_code_improved.std())+\" s\"\n",
    "str_t_scratch = \"{:.1e}\".format(t_code_scratch.mean())+\" +- \" \\\n",
    "                +\"{:.1e}\".format(t_code_scratch.std())+\" s\"\n",
    "\n"
   ]
  },
  {
   "cell_type": "code",
   "execution_count": 6,
   "id": "01d08274",
   "metadata": {},
   "outputs": [
    {
     "data": {
      "text/html": [
       "<div>\n",
       "<style scoped>\n",
       "    .dataframe tbody tr th:only-of-type {\n",
       "        vertical-align: middle;\n",
       "    }\n",
       "\n",
       "    .dataframe tbody tr th {\n",
       "        vertical-align: top;\n",
       "    }\n",
       "\n",
       "    .dataframe thead th {\n",
       "        text-align: right;\n",
       "    }\n",
       "</style>\n",
       "<table border=\"1\" class=\"dataframe\">\n",
       "  <thead>\n",
       "    <tr style=\"text-align: right;\">\n",
       "      <th></th>\n",
       "      <th>Time code_snippet</th>\n",
       "      <th>Time improved_snippet</th>\n",
       "      <th>Time scratch_sort</th>\n",
       "    </tr>\n",
       "  </thead>\n",
       "  <tbody>\n",
       "    <tr>\n",
       "      <th>0</th>\n",
       "      <td>1.7e-04 +- 1.2e-05 s</td>\n",
       "      <td>6.9e-05 +- 7.2e-06 s</td>\n",
       "      <td>1.2e-05 +- 1.1e-06 s</td>\n",
       "    </tr>\n",
       "  </tbody>\n",
       "</table>\n",
       "</div>"
      ],
      "text/plain": [
       "      Time code_snippet Time improved_snippet     Time scratch_sort\n",
       "0  1.7e-04 +- 1.2e-05 s  6.9e-05 +- 7.2e-06 s  1.2e-05 +- 1.1e-06 s"
      ]
     },
     "metadata": {},
     "output_type": "display_data"
    }
   ],
   "source": [
    "df = pd.DataFrame()\n",
    "df[\"Time code_snippet\"] = str_t_snippet,\n",
    "df[\"Time improved_snippet\"] = str_t_improved\n",
    "df[\"Time scratch_sort\"] = str_t_scratch\n",
    "\n",
    "\n",
    "display(df)\n",
    "#print(df.to_markdown())"
   ]
  },
  {
   "cell_type": "markdown",
   "id": "65ca8ed4",
   "metadata": {},
   "source": [
    "# Question 3"
   ]
  },
  {
   "cell_type": "code",
   "execution_count": 7,
   "id": "1f2859bf",
   "metadata": {},
   "outputs": [],
   "source": [
    "columns_demo = [\"SEQN\",\"RIDAGEYR\",\"RIDRETH3\",\"DMDEDUC2\",\n",
    "                \"DMDMARTL\",\"RIDSTATR\",\"SDMVPSU\",\"WTMEC2YR\",\n",
    "                \"WTINT2YR\"]\n",
    "\n",
    "columns_demo_new = [\"id\", \"age\", \"race\", \"education\",\n",
    "                    \"marital status\", \"exam status\", \n",
    "                   \"pseudo-psu masked var\", \n",
    "                   \"2yr exam weight\", \"2yr interview weight\"]\n",
    "\n",
    "dtypes = [int, int, int, int, int, int, int, float, float]\n",
    "\n",
    "rename_cols = dict(zip(columns_demo, columns_demo_new))\n",
    "data_types = dict(zip(columns_demo_new, dtypes))\n",
    "\n",
    "yr_11_12 = pd.read_sas('./DEMO_G.XPT')[columns_demo]\n",
    "yr_11_12[\"period\"] =  \"2011-2012\"\n",
    "yr_13_14 = pd.read_sas('./DEMO_H.XPT')[columns_demo]\n",
    "yr_13_14[\"period\"] =  \"2013-2014\"\n",
    "yr_15_16 = pd.read_sas('./DEMO_I.XPT')[columns_demo]\n",
    "yr_15_16[\"period\"] =  \"2015-2016\"\n",
    "yr_17_18 = pd.read_sas('./DEMO_J.XPT')[columns_demo]\n",
    "yr_17_18[\"period\"] =  \"2017-2018\"\n",
    "\n",
    "# Stack all the different dataframes into one.\n",
    "demo_data = pd.concat([yr_11_12, yr_13_14,\n",
    "                       yr_15_16, yr_17_18],\n",
    "                      ignore_index=True)\n",
    "\n",
    "#Drop NaNs.\n",
    "demo_data.dropna(inplace=True)\n",
    "#Change Column Names.\n",
    "demo_data.rename(columns=rename_cols, inplace=True)\n",
    "#Change data types.\n",
    "demo_data = demo_data.astype(data_types)\n",
    "\n",
    "pd.to_pickle(demo_data,'./Demo_data_2011_2018.p')\n"
   ]
  },
  {
   "cell_type": "code",
   "execution_count": 8,
   "id": "e4b72874",
   "metadata": {
    "scrolled": true
   },
   "outputs": [],
   "source": [
    "columns_oral = [\"SEQN\",\"OHDDESTS\"]\n",
    "\n",
    "\n",
    "#Creating mask for the required columns\n",
    "or_11_12 = pd.read_sas('./OHXDEN_G.XPT')\n",
    "mask1 = or_11_12.columns.str.contains(\"TC\")\n",
    "mask2 = ((or_11_12.columns==\"SEQN\") | (or_11_12.columns==\"OHDDESTS\"))\n",
    "mask3 = or_11_12.columns.str.contains(\"CTC\")\n",
    "mask = mask1 | mask2\n",
    "columns_oral = or_11_12.columns[mask]\n",
    "\n",
    "or_11_12[columns_oral]\n",
    "or_11_12[\"period\"] =  \"2011-2012\"\n",
    "or_13_14 = pd.read_sas('./OHXDEN_H.XPT')[columns_oral]\n",
    "or_13_14[\"period\"] =  \"2013-2014\"\n",
    "or_15_16 = pd.read_sas('./OHXDEN_I.XPT')[columns_oral]\n",
    "or_15_16[\"period\"] =  \"2015-2016\"\n",
    "or_17_18 = pd.read_sas('./OHXDEN_J.XPT')[columns_oral]\n",
    "or_17_18[\"period\"] =  \"2017-2018\"\n",
    "\n",
    "\n",
    "dtypes_oral = [int]*2+[int]*sum(mask3 & mask1)+[str]*sum(mask3)\n",
    "columns_oral_new = [\"seq oral number\", \"Dentition Status\"]\n",
    "columns_oral_new += [str(i)+\" tooth count\" for i in range(sum(mask3 & mask1))]\n",
    "columns_oral_new += [\"coronal caries \"+str(i)+\" tooth\" for i in range(sum(mask3))]\n",
    "rename_cols_oral = dict(zip(columns_oral, columns_oral_new))\n",
    "data_types_oral = dict(zip(columns_oral_new, dtypes_oral))\n",
    "\n",
    "#Stacking the data\n",
    "oral_data = pd.concat([or_11_12[columns_oral], or_13_14, \n",
    "                       or_15_16, or_17_18], ignore_index=True)\n",
    "#Drop NaN's.\n",
    "oral_data.dropna(inplace=True)\n",
    "#Change column names.\n",
    "oral_data.rename(columns=rename_cols_oral, inplace=True)\n",
    "#Change datatypes.\n",
    "oral_data = oral_data.astype(data_types_oral)\n",
    "\n",
    "#Save data in a pickle\n",
    "pd.to_pickle(oral_data,'./Oral_data_2011_2018.p')\n"
   ]
  },
  {
   "cell_type": "code",
   "execution_count": 9,
   "id": "34c7afc1",
   "metadata": {},
   "outputs": [
    {
     "name": "stdout",
     "output_type": "stream",
     "text": [
      "Number of cases in Demographic data: 22617.\n",
      "Number of cases in Oral data: 25927.\n"
     ]
    }
   ],
   "source": [
    "print(\"Number of cases in Demographic data: \"+str(len(demo_data))+\".\")\n",
    "print(\"Number of cases in Oral data: \"+str(len(oral_data))+\".\")\n"
   ]
  },
  {
   "cell_type": "code",
   "execution_count": null,
   "id": "2967dc88",
   "metadata": {},
   "outputs": [],
   "source": []
  }
 ],
 "metadata": {
  "jupytext": {
   "formats": "ipynb,auto:light"
  },
  "kernelspec": {
   "display_name": "Python 3",
   "language": "python",
   "name": "python3"
  },
  "language_info": {
   "codemirror_mode": {
    "name": "ipython",
    "version": 3
   },
   "file_extension": ".py",
   "mimetype": "text/x-python",
   "name": "python",
   "nbconvert_exporter": "python",
   "pygments_lexer": "ipython3",
   "version": "3.6.5"
  }
 },
 "nbformat": 4,
 "nbformat_minor": 5
}
