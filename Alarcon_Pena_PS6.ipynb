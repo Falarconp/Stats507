{
 "cells": [
  {
   "cell_type": "markdown",
   "id": "4ec1d5ea",
   "metadata": {},
   "source": [
    "## Question 0 - GitHub Repository"
   ]
  },
  {
   "cell_type": "markdown",
   "id": "48a08a24",
   "metadata": {},
   "source": [
    "[GitHub Repository](URL 'https://github.com/Falarconp/Stats507/tree/master')"
   ]
  },
  {
   "cell_type": "markdown",
   "id": "4bc2957c",
   "metadata": {},
   "source": [
    "## Question1 - Using Git"
   ]
  },
  {
   "cell_type": "code",
   "execution_count": null,
   "id": "4d31f4f5",
   "metadata": {},
   "outputs": [],
   "source": []
  },
  {
   "cell_type": "markdown",
   "id": "0545dff9",
   "metadata": {},
   "source": [
    "## Question 2 - GitHub Collaboration"
   ]
  },
  {
   "cell_type": "code",
   "execution_count": null,
   "id": "9e154ab5",
   "metadata": {},
   "outputs": [],
   "source": []
  }
 ],
 "metadata": {
  "jupytext": {
   "formats": "ipynb,auto:light"
  },
  "kernelspec": {
   "display_name": "local-venv",
   "language": "python",
   "name": "local-venv"
  },
  "language_info": {
   "codemirror_mode": {
    "name": "ipython",
    "version": 3
   },
   "file_extension": ".py",
   "mimetype": "text/x-python",
   "name": "python",
   "nbconvert_exporter": "python",
   "pygments_lexer": "ipython3",
   "version": "3.9.5"
  }
 },
 "nbformat": 4,
 "nbformat_minor": 5
}
